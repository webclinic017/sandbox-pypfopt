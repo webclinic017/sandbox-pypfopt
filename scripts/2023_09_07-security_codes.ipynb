{
 "cells": [
  {
   "cell_type": "code",
   "execution_count": null,
   "metadata": {},
   "outputs": [],
   "source": [
    "\"\"\"\n",
    "Script to explore integrated link tables between ISIN and other company/security identity codes.\n",
    "\n",
    "Requirements:\n",
    "    - pandas\n",
    "\"\"\""
   ]
  },
  {
   "cell_type": "code",
   "execution_count": null,
   "metadata": {},
   "outputs": [],
   "source": [
    "import pandas as pd\n",
    "\n",
    "df = pd.read_parquet(\n",
    "    \"https://github.com/Wenzhi-Ding/Std_Security_Code/blob/main/isin/ds_infocode.pq?raw=true\"\n",
    ")\n",
    "\n",
    "isin = \"US0378331005\"\n",
    "isin in df[\"isin\"].values"
   ]
  }
 ],
 "metadata": {
  "language_info": {
   "name": "python"
  },
  "orig_nbformat": 4
 },
 "nbformat": 4,
 "nbformat_minor": 2
}
