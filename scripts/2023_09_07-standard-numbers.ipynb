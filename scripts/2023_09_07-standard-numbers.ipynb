{
 "cells": [
  {
   "cell_type": "code",
   "execution_count": null,
   "metadata": {},
   "outputs": [],
   "source": [
    "\"\"\"\n",
    "Script to parse, validate and reformat standard numbers and codes in different formats.\n",
    "\n",
    "Requirements:\n",
    "    - python-stdnum\n",
    "\"\"\""
   ]
  },
  {
   "cell_type": "code",
   "execution_count": null,
   "metadata": {},
   "outputs": [],
   "source": [
    "\"\"\"\n",
    "ISIN (International Securities Identification Number).\n",
    "\"\"\"\n",
    "from stdnum import isin\n",
    "\n",
    "val = 'US0378331005'\n",
    "assert isin.is_valid(val)"
   ]
  },
  {
   "cell_type": "code",
   "execution_count": 14,
   "metadata": {},
   "outputs": [],
   "source": [
    "\"\"\"\n",
    "SEDOL number (Stock Exchange Daily Official List number).\n",
    "\"\"\"\n",
    "from stdnum.gb import sedol\n",
    "\n",
    "# validate\n",
    "val = 'B0WNLY7'\n",
    "assert sedol.is_valid(val)\n",
    "\n",
    "# format\n",
    "val = 'B0 WNLY 7'\n",
    "assert sedol.compact(val) == 'B0WNLY7'"
   ]
  }
 ],
 "metadata": {
  "kernelspec": {
   "display_name": ".venv",
   "language": "python",
   "name": "python3"
  },
  "language_info": {
   "codemirror_mode": {
    "name": "ipython",
    "version": 3
   },
   "file_extension": ".py",
   "mimetype": "text/x-python",
   "name": "python",
   "nbconvert_exporter": "python",
   "pygments_lexer": "ipython3",
   "version": "3.10.9"
  },
  "orig_nbformat": 4
 },
 "nbformat": 4,
 "nbformat_minor": 2
}
